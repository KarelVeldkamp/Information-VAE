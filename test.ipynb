{
 "cells": [
  {
   "cell_type": "code",
   "execution_count": 1,
   "id": "752e8886",
   "metadata": {},
   "outputs": [],
   "source": [
    "from model import *\n",
    "from data import *\n",
    "from helpers import *"
   ]
  },
  {
   "cell_type": "code",
   "execution_count": 19,
   "id": "a05a7ccc",
   "metadata": {},
   "outputs": [],
   "source": [
    "import torch\n",
    "from torch import nn\n",
    "import torch.nn.functional as F\n",
    "import torch.nn.utils.prune\n",
    "import pytorch_lightning as pl\n",
    "from data import *\n",
    "\n",
    "# Enocder class\n",
    "class Encoder(pl.LightningModule):\n",
    "    \"\"\"\n",
    "    Neural network used as encoder\n",
    "    \"\"\"\n",
    "    def __init__(self,\n",
    "                 nitems: int,\n",
    "                 latent_dims: int,\n",
    "                 hidden_layer_size: int,\n",
    "                 hidden_layer_size2: int):\n",
    "        \"\"\"\n",
    "        Initialisation\n",
    "        :param latent_dims: number of latent dimensions of the model\n",
    "        \"\"\"\n",
    "        super(Encoder, self).__init__()\n",
    "\n",
    "        input_layer = nitems\n",
    "\n",
    "        self.dense1 = nn.Linear(input_layer, hidden_layer_size)\n",
    "        self.dense2 = nn.Linear(hidden_layer_size, hidden_layer_size2)\n",
    "        self.densem = nn.Linear(hidden_layer_size2, latent_dims)\n",
    "        self.denses = nn.Linear(hidden_layer_size2, latent_dims)\n",
    "\n",
    "\n",
    "    def forward(self, x: torch.Tensor) -> torch.Tensor:\n",
    "        \"\"\"\n",
    "        A forward pass though the encoder network\n",
    "        :param x: a tensor representing a batch of response data\n",
    "        :param m: a mask representing which data is missing\n",
    "        :return: a sample from the latent dimensions\n",
    "        \"\"\"\n",
    "\n",
    "        # calculate s and mu based on encoder weights\n",
    "        out = F.elu(self.dense1(x))\n",
    "        out = F.elu(self.dense2(out))\n",
    "        mu =  self.densem(out)\n",
    "        log_sigma = self.denses(out)\n",
    "\n",
    "        return mu, log_sigma\n",
    "\n",
    "# Sampling layer\n",
    "class SamplingLayer(pl.LightningModule):\n",
    "    def __init__(self):\n",
    "        super(SamplingLayer, self).__init__()\n",
    "        self.N = torch.distributions.Normal(0, 1)\n",
    "\n",
    "    def forward(self, mu, log_sigma):\n",
    "        sigma = torch.exp(log_sigma)\n",
    "        error = self.N.sample(mu.shape)\n",
    "        # potentially move error vector to GPU\n",
    "        error = error.to(mu)\n",
    "        return mu + sigma * error\n",
    "\n",
    "# Decoder class\n",
    "class Decoder(pl.LightningModule):\n",
    "    \"\"\"\n",
    "    Neural network used as decoder\n",
    "    \"\"\"\n",
    "\n",
    "    def __init__(self, nitems: int, latent_dims: int):\n",
    "        \"\"\"\n",
    "        Initialisation\n",
    "        :param latent_dims: the number of latent factors\n",
    "        :param qm: IxD Q-matrix specifying which items i<I load on which dimensions d<D\n",
    "        \"\"\"\n",
    "        super().__init__()\n",
    "\n",
    "        # initialise netowrk components\n",
    "        input_layer = latent_dims\n",
    "        self.linear = nn.Linear(input_layer, nitems)\n",
    "        self.activation = nn.Sigmoid()\n",
    "\n",
    "\n",
    "    def forward(self, x: torch.Tensor) -> torch.Tensor:\n",
    "        \"\"\"\n",
    "        Forward pass though the network\n",
    "        :param x: tensor representing a sample from the latent dimensions\n",
    "        :param m: mask representing which data is missing\n",
    "        :return: tensor representing reconstructed item responses\n",
    "        \"\"\"\n",
    "        out = self.linear(x)\n",
    "        out = self.activation(out)\n",
    "        return out\n",
    "    \n",
    "# Decoder class\n",
    "class Decoder_Normal(pl.LightningModule):\n",
    "    \"\"\"\n",
    "    Neural network used as decoder\n",
    "    \"\"\"\n",
    "\n",
    "    def __init__(self, nitems: int, latent_dims: int):\n",
    "        \"\"\"\n",
    "        Initialisation\n",
    "        :param latent_dims: the number of latent factors\n",
    "        :param qm: IxD Q-matrix specifying which items i<I load on which dimensions d<D\n",
    "        \"\"\"\n",
    "        super().__init__()\n",
    "\n",
    "        # initialise netowrk components\n",
    "        input_layer = latent_dims\n",
    "        self.linear = nn.Linear(input_layer, nitems)\n",
    "        self.activation = nn.Sigmoid()\n",
    "\n",
    "\n",
    "    def forward(self, x: torch.Tensor) -> torch.Tensor:\n",
    "        \"\"\"\n",
    "        Forward pass though the network\n",
    "        :param x: tensor representing a sample from the latent dimensions\n",
    "        :param m: mask representing which data is missing\n",
    "        :return: tensor representing reconstructed item responses\n",
    "        \"\"\"\n",
    "        out = self.linear(x)\n",
    "        return out\n",
    "\n",
    "# Entire variational autoencoder class\n",
    "class VAE(pl.LightningModule):\n",
    "    \"\"\"\n",
    "    Neural network for the entire variational autoencoder\n",
    "    \"\"\"\n",
    "    def __init__(self,\n",
    "                 dataloader,\n",
    "                 nitems: int,\n",
    "                 latent_dims: int,\n",
    "                 hidden_layer_size: int,\n",
    "                 hidden_layer_size2: int,\n",
    "                 learning_rate: float,\n",
    "                 batch_size: int,\n",
    "                 beta: int = 1):\n",
    "        \"\"\"\n",
    "        Initialisaiton\n",
    "        :param latent_dims: number of latent dimensions\n",
    "        \"\"\"\n",
    "        super(VAE, self).__init__()\n",
    "        #self.automatic_optimization = False\n",
    "        self.nitems = nitems\n",
    "        self.dataloader = dataloader\n",
    "\n",
    "        self.encoder = Encoder(nitems,\n",
    "                               latent_dims,\n",
    "                               hidden_layer_size,\n",
    "                               hidden_layer_size2\n",
    "        )\n",
    "\n",
    "        self.sampler = SamplingLayer()\n",
    "\n",
    "        self.decoder = Decoder(nitems, latent_dims)\n",
    "\n",
    "        self.lr = learning_rate\n",
    "        self.batch_size = batch_size\n",
    "        self.beta = beta\n",
    "        self.kl=0\n",
    "\n",
    "    def forward(self, x: torch.Tensor):\n",
    "        \"\"\"\n",
    "        forward pass though the entire network\n",
    "        :param x: tensor representing response data\n",
    "        :param m: mask representing which data is missing\n",
    "        :return: tensor representing a reconstruction of the input response data\n",
    "        \"\"\"\n",
    "        mu, log_sigma = self.encoder(x)\n",
    "        z = self.sampler(mu, log_sigma)\n",
    "        reco = self.decoder(z)\n",
    "\n",
    "        # calcualte kl divergence\n",
    "        kl = 1 + 2 * log_sigma - torch.square(mu) - torch.exp(2 * log_sigma)\n",
    "        kl = torch.sum(kl, dim=-1)\n",
    "        self.kl = -.5 * torch.mean(kl)\n",
    "        return reco\n",
    "\n",
    "    def configure_optimizers(self):\n",
    "        return torch.optim.Adam(self.parameters(), lr=self.lr, amsgrad=True)\n",
    "\n",
    "    def training_step(self, batch, batch_idx):\n",
    "        # forward pass\n",
    "\n",
    "        data, mask = batch\n",
    "        X_hat = self(data)\n",
    "\n",
    "        # calculate the likelihood, and take the mean of all non missing elements\n",
    "        # bce = data * torch.log(X_hat) + (1 - data) * torch.log(1 - X_hat)\n",
    "        # bce = bce*mask\n",
    "        # bce = -self.nitems * torch.mean(bce, 1)\n",
    "        # bce = bce / torch.mean(mask.float(),1)\n",
    "\n",
    "        bce = torch.nn.functional.binary_cross_entropy(X_hat, batch[0], reduction='none')\n",
    "        bce = torch.mean(bce)  * self.nitems\n",
    "        bce = bce / torch.mean(mask.float())\n",
    "\n",
    "        # sum the likelihood and the kl divergence\n",
    "\n",
    "        #loss = torch.mean((bce + self.encoder.kl))\n",
    "        loss = bce + self.beta * self.kl\n",
    "        #self.log('binary_cross_entropy', bce)\n",
    "        #self.log('kl_divergence', self.encoder.kl)\n",
    "        self.log('train_loss',loss)\n",
    "\n",
    "        return {'loss': loss}\n",
    "\n",
    "    def train_dataloader(self):\n",
    "        return self.dataloader\n",
    "\n",
    "    def compute_information(self, theta):\n",
    "        # compute conditional p(x|theta) (likelihood)\n",
    "        prob = self.decoder(theta)\n",
    "\n",
    "        # Loop though output dimensions/items, save Fisher information matrix for each\n",
    "        FIMs = []\n",
    "        for i in range(prob.shape[0]):\n",
    "            p = prob[i]\n",
    "            # compute gradients of log p(x=1) and log p(x=0) to the latent variables \n",
    "            gradient0 = torch.autograd.grad(torch.log(1-p), theta, retain_graph=True, allow_unused=True)[0]\n",
    "            gradient1 = torch.autograd.grad(torch.log(p), theta, retain_graph=True, allow_unused=True)[0]\n",
    "\n",
    "            # Compute the outer product of the gradients with itself\n",
    "            outer0 = torch.outer(gradient0, gradient0)\n",
    "            outer1 = torch.outer(gradient1, gradient1)\n",
    "\n",
    "            # compute the Fisher information matrix by calculating the expectation of this outer product \n",
    "            FIM = p * outer1 + (1-p) * outer0\n",
    "\n",
    "            # append to list of FIMs\n",
    "            FIMs.append(FIM.detach().numpy())\n",
    "\n",
    "        return FIMs\n",
    "\n",
    "\n",
    "# Entire variational autoencoder class\n",
    "class VAE_normal(pl.LightningModule):\n",
    "    \"\"\"\n",
    "    Neural network for the entire variational autoencoder\n",
    "    \"\"\"\n",
    "    def __init__(self,\n",
    "                 dataloader,\n",
    "                 nitems: int,\n",
    "                 latent_dims: int,\n",
    "                 hidden_layer_size: int,\n",
    "                 hidden_layer_size2: int,\n",
    "                 learning_rate: float,\n",
    "                 batch_size: int,\n",
    "                 beta: int = 1):\n",
    "        \"\"\"\n",
    "        Initialisaiton\n",
    "        :param latent_dims: number of latent dimensions\n",
    "        \"\"\"\n",
    "        super(VAE_normal, self).__init__()\n",
    "        #self.automatic_optimization = False\n",
    "        self.nitems = nitems\n",
    "        self.dataloader = dataloader\n",
    "\n",
    "        self.encoder = Encoder(nitems,\n",
    "                               latent_dims,\n",
    "                               hidden_layer_size,\n",
    "                               hidden_layer_size2\n",
    "        )\n",
    "\n",
    "        self.sampler = SamplingLayer()\n",
    "\n",
    "        self.decoder = Decoder(nitems, latent_dims)\n",
    "\n",
    "        self.lr = learning_rate\n",
    "        self.batch_size = batch_size\n",
    "        self.beta = beta\n",
    "        self.logscale = nn.Parameter(torch.Tensor([0]))\n",
    "        self.kl=0\n",
    "\n",
    "    def forward(self, x: torch.Tensor):\n",
    "        \"\"\"\n",
    "        forward pass though the entire network\n",
    "        :param x: tensor representing response data\n",
    "        :param m: mask representing which data is missing\n",
    "        :return: tensor representing a reconstruction of the input response data\n",
    "        \"\"\"\n",
    "        mu, log_sigma = self.encoder(x)\n",
    "        z = self.sampler(mu, log_sigma)\n",
    "        reco = self.decoder(z)\n",
    "\n",
    "        # calcualte kl divergence\n",
    "        #kl = 1 + 2 * log_sigma - torch.square(mu) - torch.exp(2 * log_sigma)\n",
    "        #kl = torch.sum(kl, dim=-1)\n",
    "        #self.kl = -.5 * torch.mean(kl)\n",
    "\n",
    "        self.kl = self.kl_divergence(z, mu, torch.exp(log_sigma)).mean()\n",
    "        return reco\n",
    "    \n",
    "    def gaussian_likelihood(self, x_hat, logscale, x):\n",
    "        scale = torch.exp(logscale)\n",
    "        mean = x_hat\n",
    "        dist = torch.distributions.Normal(mean, scale)\n",
    "\n",
    "        # log prob of seeing image under p(x|z)\n",
    "        log_pxz = dist.log_prob(x)\n",
    "        return log_pxz.sum()\n",
    "    \n",
    "    def kl_divergence(self, z, mu, std):\n",
    "        # --------------------------\n",
    "        # Monte carlo KL divergence\n",
    "        # --------------------------\n",
    "        # 1. define the first two probabilities (in this case Normal for both)\n",
    "        p = torch.distributions.Normal(torch.zeros_like(mu), torch.ones_like(std))\n",
    "        q = torch.distributions.Normal(mu, std)\n",
    "\n",
    "        # 2. get the probabilities from the equation\n",
    "        log_qzx = q.log_prob(z)\n",
    "        log_pz = p.log_prob(z)\n",
    "\n",
    "        # kl\n",
    "        kl = (log_qzx - log_pz)\n",
    "        kl = kl.sum(-1)\n",
    "        return kl\n",
    "\n",
    "    def configure_optimizers(self):\n",
    "        return torch.optim.Adam(self.parameters(), lr=self.lr, amsgrad=True)\n",
    "\n",
    "    def training_step(self, batch, batch_idx):\n",
    "        # forward pass\n",
    "\n",
    "        data, mask = batch\n",
    "        X_hat = self(data)\n",
    "\n",
    "        # calculate the likelihood, and take the mean of all non missing elements\n",
    "        # bce = data * torch.log(X_hat) + (1 - data) * torch.log(1 - X_hat)\n",
    "        # bce = bce*mask\n",
    "        # bce = -self.nitems * torch.mean(bce, 1)\n",
    "        # bce = bce / torch.mean(mask.float(),1)\n",
    "\n",
    "        ll = self.gaussian_likelihood(X_hat, self.logscale, data)\n",
    "\n",
    "        # sum the likelihood and the kl divergence\n",
    "\n",
    "        #loss = torch.mean((bce + self.encoder.kl))\n",
    "        loss = -ll + self.beta * self.kl\n",
    "        #self.log('binary_cross_entropy', bce)\n",
    "        #self.log('kl_divergence', self.encoder.kl)\n",
    "        self.log('train_loss',loss)\n",
    "\n",
    "        return {'loss': loss}\n",
    "\n",
    "    def train_dataloader(self):\n",
    "        return self.dataloader\n",
    "\n",
    "    def compute_information(self, theta):\n",
    "        # compute predicted mu for each output dimension\n",
    "        mu = self.decoder(theta)\n",
    "        \n",
    "        # Get the number of dimensions/items\n",
    "        output_dimensions = mu.shape[0]\n",
    "        \n",
    "        # Calculate Hermite polynomial roots and weights for integration\n",
    "        n = 10  \n",
    "        roots, weights = roots_hermite(n)\n",
    "        roots = torch.Tensor(roots)\n",
    "        weights = torch.Tensor(weights)\n",
    "        \n",
    "        # Initialize the Fisher information matrix\n",
    "        FIMs = [torch.zeros((len(theta), len(theta))) for _ in range(num_dimensions)]\n",
    "        \n",
    "        # Loop through output dimensions (items)\n",
    "        for d in range(num_dimensions):\n",
    "            # loop though quadrature points\n",
    "            for i in range(len(roots)):\n",
    "                # create normal distribution centered at the predicted mu for this item\n",
    "                N = torch.distributions.Normal(mu[d], torch.exp(self.logscale))\n",
    "                # calculate the log likelihood of the root under this prediction\n",
    "                log_prob = N.log_prob(roots[i])\n",
    "                # calculate the gradient of this probability with respect to theta\n",
    "                gradient = torch.autograd.grad(log_prob, theta, create_graph=True)[0]\n",
    "                \n",
    "                # Calculate the outer product of the gradient\n",
    "                outer = torch.outer(gradient, gradient)\n",
    "                \n",
    "                # Update the Fisher information matrix for this dimension, weighing by the GH weights\n",
    "                FIMs[d] += outer * weights[i]\n",
    "        \n",
    "        return FIMs\n",
    "            \n",
    "\n"
   ]
  },
  {
   "cell_type": "code",
   "execution_count": 4,
   "id": "7644d338",
   "metadata": {},
   "outputs": [
    {
     "name": "stderr",
     "output_type": "stream",
     "text": [
      "GPU available: True (mps), used: False\n",
      "TPU available: False, using: 0 TPU cores\n",
      "IPU available: False, using: 0 IPUs\n",
      "HPU available: False, using: 0 HPUs\n",
      "/Users/karel/miniforge3/lib/python3.10/site-packages/pytorch_lightning/trainer/setup.py:200: UserWarning: MPS available but not used. Set `accelerator` and `devices` using `Trainer(accelerator='mps', devices=1)`.\n",
      "  rank_zero_warn(\n",
      "\n",
      "  | Name    | Type          | Params\n",
      "------------------------------------------\n",
      "0 | encoder | Encoder       | 234 K \n",
      "1 | sampler | SamplingLayer | 0     \n",
      "2 | decoder | Decoder       | 2.4 K \n",
      "------------------------------------------\n",
      "236 K     Trainable params\n",
      "0         Non-trainable params\n",
      "236 K     Total params\n",
      "0.947     Total estimated model params size (MB)\n",
      "/Users/karel/miniforge3/lib/python3.10/site-packages/pytorch_lightning/trainer/connectors/data_connector.py:224: PossibleUserWarning: The dataloader, train_dataloader, does not have many workers which may be a bottleneck. Consider increasing the value of the `num_workers` argument` (try 8 which is the number of cpus on this machine) in the `DataLoader` init to improve performance.\n",
      "  rank_zero_warn(\n"
     ]
    },
    {
     "data": {
      "application/vnd.jupyter.widget-view+json": {
       "model_id": "dfd032c8c07c43c1bfb01c28dcdfc655",
       "version_major": 2,
       "version_minor": 0
      },
      "text/plain": [
       "Training: 0it [00:00, ?it/s]"
      ]
     },
     "metadata": {},
     "output_type": "display_data"
    },
    {
     "name": "stderr",
     "output_type": "stream",
     "text": [
      "`Trainer.fit` stopped: `max_epochs=10` reached.\n"
     ]
    },
    {
     "data": {
      "image/png": "[encoded data removed]",
      "text/plain": [
       "<Figure size 640x480 with 1 Axes>"
      ]
     },
     "metadata": {},
     "output_type": "display_data"
    }
   ],
   "source": [
    "import torch\n",
    "from torchvision import datasets, transforms\n",
    "import pytorch_lightning as pl\n",
    "import matplotlib.pyplot as plt\n",
    "\n",
    "# Define a transformation to normalize the data\n",
    "# Define a transformation to normalize the data and flatten it\n",
    "transform = transforms.Compose([\n",
    "    transforms.ToTensor(),\n",
    "    transforms.Lambda(lambda x: x.view(-1))  # Flatten the image\n",
    "])\n",
    "\n",
    "\n",
    "# Define a custom callback to record training losses\n",
    "class LossCallback(pl.Callback):\n",
    "    def __init__(self):\n",
    "        super().__init__()\n",
    "        self.train_losses = []\n",
    "\n",
    "    def on_train_epoch_end(self, trainer, pl_module):\n",
    "        # Access the training loss and append it to the list\n",
    "        train_loss = trainer.callback_metrics['train_loss'].item()\n",
    "        self.train_losses.append(train_loss)\n",
    "\n",
    "# Load the MNIST dataset\n",
    "mnist_train = datasets.MNIST(root='./data', train=True, transform=transform, download=True)\n",
    "dataloader = torch.utils.data.DataLoader(mnist_train, batch_size=64, shuffle=True)\n",
    "\n",
    "# Define hyperparameters\n",
    "latent_dims = 2\n",
    "hidden_layer_size = 256\n",
    "hidden_layer_size2 = 128\n",
    "learning_rate = 0.001\n",
    "batch_size = 64\n",
    "beta = 1.0\n",
    "\n",
    "# Initialize the VAE_normal model\n",
    "vae_model = VAE_normal(dataloader, nitems=28*28, latent_dims=latent_dims,\n",
    "                       hidden_layer_size=hidden_layer_size, hidden_layer_size2=hidden_layer_size2,\n",
    "                       learning_rate=learning_rate, batch_size=batch_size, beta=beta)\n",
    "\n",
    "loss_callback = LossCallback()\n",
    "\n",
    "# Create a PyTorch Lightning Trainer with the custom callback\n",
    "trainer = pl.Trainer(max_epochs=10, callbacks=[loss_callback])  # You can adjust max_epochs and other parameters\n",
    "\n",
    "# Start training\n",
    "trainer.fit(vae_model, dataloader)\n",
    "\n",
    "# Plot the training loss over epochs\n",
    "plt.plot(range(1, 11), loss_callback.train_losses, marker='o', linestyle='-')\n",
    "plt.xlabel('Epoch')\n",
    "plt.ylabel('Training Loss')\n",
    "plt.title('Training Loss Over Epochs')\n",
    "plt.grid(True)\n",
    "plt.show()"
   ]
  },
  {
   "cell_type": "code",
   "execution_count": 5,
   "id": "9f72237e",
   "metadata": {},
   "outputs": [
    {
     "ename": "NameError",
     "evalue": "name 'roots_hermite' is not defined",
     "output_type": "error",
     "traceback": [
      "\u001b[0;31m---------------------------------------------------------------------------\u001b[0m",
      "\u001b[0;31mNameError\u001b[0m                                 Traceback (most recent call last)",
      "Cell \u001b[0;32mIn [5], line 3\u001b[0m\n\u001b[1;32m      1\u001b[0m theta \u001b[38;5;241m=\u001b[39m torch\u001b[38;5;241m.\u001b[39mnormal(torch\u001b[38;5;241m.\u001b[39mzeros(\u001b[38;5;241m2\u001b[39m))\n\u001b[1;32m      2\u001b[0m theta\u001b[38;5;241m.\u001b[39mrequires_grad \u001b[38;5;241m=\u001b[39m \u001b[38;5;28;01mTrue\u001b[39;00m\n\u001b[0;32m----> 3\u001b[0m FIM \u001b[38;5;241m=\u001b[39m \u001b[43mvae_model\u001b[49m\u001b[38;5;241;43m.\u001b[39;49m\u001b[43mcompute_information\u001b[49m\u001b[43m(\u001b[49m\u001b[43mtheta\u001b[49m\u001b[43m)\u001b[49m[\u001b[38;5;241m0\u001b[39m]\n\u001b[1;32m      4\u001b[0m det \u001b[38;5;241m=\u001b[39m torch\u001b[38;5;241m.\u001b[39mdet(FIM)\n\u001b[1;32m      5\u001b[0m det\n",
      "Cell \u001b[0;32mIn [2], line 357\u001b[0m, in \u001b[0;36mVAE_normal.compute_information\u001b[0;34m(self, theta)\u001b[0m\n\u001b[1;32m    355\u001b[0m \u001b[38;5;66;03m# Calculate Hermite polynomial roots and weights for integration\u001b[39;00m\n\u001b[1;32m    356\u001b[0m n \u001b[38;5;241m=\u001b[39m \u001b[38;5;241m10\u001b[39m  \n\u001b[0;32m--> 357\u001b[0m roots, weights \u001b[38;5;241m=\u001b[39m \u001b[43mroots_hermite\u001b[49m(n)\n\u001b[1;32m    358\u001b[0m roots \u001b[38;5;241m=\u001b[39m torch\u001b[38;5;241m.\u001b[39mTensor(roots)\n\u001b[1;32m    359\u001b[0m weights \u001b[38;5;241m=\u001b[39m torch\u001b[38;5;241m.\u001b[39mTensor(weights)\n",
      "\u001b[0;31mNameError\u001b[0m: name 'roots_hermite' is not defined"
     ]
    }
   ],
   "source": [
    "theta = torch.normal(torch.zeros(2))\n",
    "theta.requires_grad = True\n",
    "FIM = vae_model.compute_information(theta)[0]\n",
    "det = torch.det(FIM)\n",
    "det"
   ]
  },
  {
   "cell_type": "code",
   "execution_count": 190,
   "id": "5b995b7b",
   "metadata": {},
   "outputs": [
    {
     "data": {
      "text/plain": [
       "tensor([1.0730, 0.6529])"
      ]
     },
     "execution_count": 190,
     "metadata": {},
     "output_type": "execute_result"
    }
   ],
   "source": []
  },
  {
   "cell_type": "code",
   "execution_count": 98,
   "id": "cb80dc80",
   "metadata": {},
   "outputs": [],
   "source": [
    "batch = next(iter(dataloader))[0]\n",
    "out = vae_model(batch).detach()"
   ]
  },
  {
   "cell_type": "code",
   "execution_count": 89,
   "id": "b7966cb9",
   "metadata": {},
   "outputs": [],
   "source": [
    "import matplotlib.pyplot as plt\n",
    "import numpy as np\n",
    "\n",
    "def plot_tensor(tensor_1d, title=\"Image\"):\n",
    "    \"\"\"\n",
    "    Plots a 1D tensor as a 28x28 image.\n",
    "    \n",
    "    Args:\n",
    "        tensor_1d (torch.Tensor): 1D tensor of size 784 (28x28).\n",
    "        title (str): Title for the plot.\n",
    "    \"\"\"\n",
    "    # Reshape the 1D tensor into a 28x28 matrix\n",
    "    tensor_2d = tensor_1d.reshape(28, 28)\n",
    "    \n",
    "    # Create a figure and axis for the plot\n",
    "    plt.figure(figsize=(5, 5))\n",
    "    plt.imshow(tensor_2d, cmap='gray')\n",
    "    plt.title(title)\n",
    "    plt.axis('off')  # Turn off axis labels and ticks\n",
    "    plt.show()\n",
    "\n",
    "# Example usage:\n",
    "# Assuming you have a 1D tensor 'image_tensor' of size 784\n",
    "# plot_1d_tensor_as_image(image_tensor, title=\"My Image\")\n",
    "\n"
   ]
  },
  {
   "cell_type": "code",
   "execution_count": 100,
   "id": "c4e8982d",
   "metadata": {},
   "outputs": [
    {
     "data": {
      "image/png": "[encoded data removed]",
      "text/plain": [
       "<Figure size 500x500 with 1 Axes>"
      ]
     },
     "metadata": {},
     "output_type": "display_data"
    },
    {
     "data": {
      "image/png": "[encoded data removed]",
      "text/plain": [
       "<Figure size 500x500 with 1 Axes>"
      ]
     },
     "metadata": {},
     "output_type": "display_data"
    }
   ],
   "source": [
    "image = 10\n",
    "plot_tensor(batch[image, :])\n",
    "plot_tensor(out[image, :])"
   ]
  },
  {
   "cell_type": "code",
   "execution_count": 68,
   "id": "37cef156",
   "metadata": {},
   "outputs": [
    {
     "data": {
      "text/plain": [
       "tensor([-3.6145, -4.2998, -3.7968, -3.6091, -3.8528, -4.0346, -3.8041, -4.0474,\n",
       "        -3.5548, -4.1812, -3.4278, -4.4764, -3.8327, -3.0677, -3.6354, -4.0680,\n",
       "        -3.7702, -3.6134, -3.5762, -3.5784], grad_fn=<MeanBackward1>)"
      ]
     },
     "execution_count": 68,
     "metadata": {},
     "output_type": "execute_result"
    }
   ],
   "source": [
    "z, sigma = vae_model.encoder(batch)\n",
    "z.mean(0)\n",
    "sigma.mean(0)"
   ]
  },
  {
   "cell_type": "code",
   "execution_count": 20,
   "id": "c0cf7a4e",
   "metadata": {},
   "outputs": [
    {
     "name": "stderr",
     "output_type": "stream",
     "text": [
      "GPU available: True (mps), used: False\n",
      "TPU available: False, using: 0 TPU cores\n",
      "IPU available: False, using: 0 IPUs\n",
      "HPU available: False, using: 0 HPUs\n"
     ]
    }
   ],
   "source": [
    "import numpy as np\n",
    "import pandas as pd\n",
    "import matplotlib.pyplot as plt\n",
    "import yaml\n",
    "from pytorch_lightning import Trainer\n",
    "from pytorch_lightning.callbacks.early_stopping import EarlyStopping\n",
    "from pytorch_lightning.loggers import CSVLogger\n",
    "from torch.utils.data import DataLoader, Dataset\n",
    "import sys\n",
    "import time\n",
    "import os\n",
    "\n",
    "# set working directory to source file location\n",
    "#abspath = os.path.abspath(__file__)\n",
    "#dname = os.path.dirname(abspath)\n",
    "#os.chdir(dname)\n",
    "\n",
    "# set device to gpu if available\n",
    "device = torch.device('cuda' if torch.cuda.is_available() else 'cpu')\n",
    "\n",
    "# load configurations\n",
    "with open(\"./config.yml\", \"r\") as f:\n",
    "    cfg = yaml.safe_load(f)\n",
    "    cfg = cfg['configs']\n",
    "\n",
    "\n",
    "\n",
    "theta=np.random.normal(0,1,cfg['N']*cfg['mirt_dim']).reshape((cfg['N'], cfg['mirt_dim']))\n",
    "a = np.random.uniform(.5, 2, 28 * cfg['mirt_dim']).reshape((28, cfg['mirt_dim']))  # draw discrimination parameters from uniform distribution\n",
    "b = np.linspace(-2, 2, 28, endpoint=True)  # eqally spaced values between -2 and 2 for the difficulty\n",
    "exponent = np.dot(theta, a.T) + b\n",
    "prob = np.exp(exponent) / (1 + np.exp(exponent))\n",
    "data = np.random.binomial(1, prob).astype(float)\n",
    "\n",
    "# introduce missingness\n",
    "#np.random.seed(cfg['iteration'])\n",
    "#indices = np.random.choice(data.shape[0]*data.shape[1], replace=False, size=int(data.shape[0]*data.shape[1]*cfg['missing_percentage']))\n",
    "#data[np.unravel_index(indices, data.shape)] = float('nan')\n",
    "#data = torch.Tensor(data)\n",
    "\n",
    "# initialise model and optimizer\n",
    "logger = CSVLogger(\"logs\", name='simfit', version=0)\n",
    "trainer = Trainer(fast_dev_run=cfg['single_epoch_test_run'],\n",
    "                  max_epochs=1500,#cfg['max_epochs'],\n",
    "                  enable_checkpointing=False,\n",
    "                  logger=False,\n",
    "                  callbacks=[EarlyStopping(monitor='train_loss', min_delta=cfg['min_delta'], patience=cfg['patience'], mode='min')])\n",
    "\n",
    "dataset = SimDataset(data)\n",
    "train_loader = DataLoader(dataset, batch_size=cfg['batch_size'], shuffle=False)\n",
    "vae = VAE(nitems=data.shape[1],\n",
    "            dataloader=train_loader,\n",
    "            latent_dims=cfg['mirt_dim'],\n",
    "            hidden_layer_size=cfg['hidden_layer_size'],\n",
    "            hidden_layer_size2=cfg['hidden_layer_size2'],\n",
    "            learning_rate=cfg['learning_rate'],\n",
    "            batch_size=data.shape[0]\n",
    ")\n",
    "\n"
   ]
  },
  {
   "cell_type": "code",
   "execution_count": 21,
   "id": "3a943740",
   "metadata": {},
   "outputs": [
    {
     "name": "stderr",
     "output_type": "stream",
     "text": [
      "\n",
      "  | Name    | Type          | Params\n",
      "------------------------------------------\n",
      "0 | encoder | Encoder       | 1.6 K \n",
      "1 | sampler | SamplingLayer | 0     \n",
      "2 | decoder | Decoder       | 112   \n",
      "------------------------------------------\n",
      "1.7 K     Trainable params\n",
      "0         Non-trainable params\n",
      "1.7 K     Total params\n",
      "0.007     Total estimated model params size (MB)\n"
     ]
    },
    {
     "data": {
      "application/vnd.jupyter.widget-view+json": {
       "model_id": "34cf0faf78ca4db195efe9e5725ff7f9",
       "version_major": 2,
       "version_minor": 0
      },
      "text/plain": [
       "Training: 0it [00:00, ?it/s]"
      ]
     },
     "metadata": {},
     "output_type": "display_data"
    }
   ],
   "source": [
    "start = time.time()\n",
    "trainer.fit(vae)\n",
    "runtime = time.time()-start"
   ]
  },
  {
   "cell_type": "code",
   "execution_count": 8,
   "id": "d207fa50",
   "metadata": {},
   "outputs": [],
   "source": [
    "data, mask = next(iter(train_loader))\n",
    "theta_est, _ = vae.encoder(data)\n",
    "\n"
   ]
  },
  {
   "cell_type": "code",
   "execution_count": 10,
   "id": "e709858d",
   "metadata": {
    "scrolled": true
   },
   "outputs": [
    {
     "data": {
      "text/plain": [
       "array([[ 0.05239055, -0.07040454,  0.04420692],\n",
       "       [-0.07040454,  0.09461246, -0.05940706],\n",
       "       [ 0.04420692, -0.05940706,  0.03730162]], dtype=float32)"
      ]
     },
     "execution_count": 10,
     "metadata": {},
     "output_type": "execute_result"
    }
   ],
   "source": [
    "theta = torch.normal(torch.zeros(cfg['mirt_dim']))\n",
    "theta.requires_grad = True\n",
    "FIM = vae.compute_information(theta)[0]\n",
    "FIM"
   ]
  },
  {
   "cell_type": "code",
   "execution_count": 11,
   "id": "e5b7bf18",
   "metadata": {},
   "outputs": [
    {
     "ename": "TypeError",
     "evalue": "det(): argument 'input' (position 1) must be Tensor, not numpy.ndarray",
     "output_type": "error",
     "traceback": [
      "\u001b[0;31m---------------------------------------------------------------------------\u001b[0m",
      "\u001b[0;31mTypeError\u001b[0m                                 Traceback (most recent call last)",
      "Cell \u001b[0;32mIn [11], line 1\u001b[0m\n\u001b[0;32m----> 1\u001b[0m \u001b[43mtorch\u001b[49m\u001b[38;5;241;43m.\u001b[39;49m\u001b[43mdet\u001b[49m\u001b[43m(\u001b[49m\u001b[43mFIM\u001b[49m\u001b[43m)\u001b[49m\n",
      "\u001b[0;31mTypeError\u001b[0m: det(): argument 'input' (position 1) must be Tensor, not numpy.ndarray"
     ]
    }
   ],
   "source": [
    "torch.det(FIM)"
   ]
  },
  {
   "cell_type": "code",
   "execution_count": 12,
   "id": "c612f52a",
   "metadata": {},
   "outputs": [
    {
     "name": "stdout",
     "output_type": "stream",
     "text": [
      "tensor([[[ 1,  2,  3],\n",
      "         [ 2,  4,  6],\n",
      "         [ 3,  6,  9]],\n",
      "\n",
      "        [[16, 20, 24],\n",
      "         [20, 25, 30],\n",
      "         [24, 30, 36]]])\n"
     ]
    }
   ],
   "source": [
    "import torch\n",
    "\n",
    "# Example input tensor\n",
    "tensor = torch.tensor([[1, 2, 3], [4,5,6]])\n",
    "\n",
    "# Reshape the input tensor to add a new axis\n",
    "if tensor.ndim == 1:\n",
    "    tensor = tensor.unsqueeze(0) \n",
    "tensor = tensor[:, :, None]\n",
    "# Perform element-wise multiplication\n",
    "result = tensor * tensor.transpose(1, 2)\n",
    "\n",
    "print(result)"
   ]
  },
  {
   "cell_type": "code",
   "execution_count": 240,
   "id": "f124cd0d",
   "metadata": {},
   "outputs": [
    {
     "data": {
      "text/plain": [
       "tensor([[ 4.1921e-04, -3.4186e-03, -3.9359e-03, -2.5715e-02,  6.6176e-04,\n",
       "          2.0714e-05, -2.3419e-03,  9.1999e-04,  1.2759e-03,  2.2611e-04],\n",
       "        [-3.4186e-03,  2.7879e-02,  3.2097e-02,  2.0970e-01, -5.3966e-03,\n",
       "         -1.6892e-04,  1.9098e-02, -7.5025e-03, -1.0405e-02, -1.8439e-03],\n",
       "        [-3.9359e-03,  3.2097e-02,  3.6954e-02,  2.4143e-01, -6.2132e-03,\n",
       "         -1.9448e-04,  2.1988e-02, -8.6377e-03, -1.1979e-02, -2.1229e-03],\n",
       "        [-2.5715e-02,  2.0970e-01,  2.4143e-01,  1.5774e+00, -4.0593e-02,\n",
       "         -1.2706e-03,  1.4366e-01, -5.6433e-02, -7.8262e-02, -1.3870e-02],\n",
       "        [ 6.6176e-04, -5.3966e-03, -6.2132e-03, -4.0593e-02,  1.0446e-03,\n",
       "          3.2699e-05, -3.6970e-03,  1.4523e-03,  2.0141e-03,  3.5693e-04],\n",
       "        [ 2.0714e-05, -1.6892e-04, -1.9448e-04, -1.2706e-03,  3.2699e-05,\n",
       "          1.0235e-06, -1.1572e-04,  4.5458e-05,  6.3042e-05,  1.1172e-05],\n",
       "        [-2.3419e-03,  1.9098e-02,  2.1988e-02,  1.4366e-01, -3.6970e-03,\n",
       "         -1.1572e-04,  1.3083e-02, -5.1396e-03, -7.1276e-03, -1.2632e-03],\n",
       "        [ 9.1999e-04, -7.5025e-03, -8.6377e-03, -5.6433e-02,  1.4523e-03,\n",
       "          4.5458e-05, -5.1396e-03,  2.0190e-03,  2.8000e-03,  4.9621e-04],\n",
       "        [ 1.2759e-03, -1.0405e-02, -1.1979e-02, -7.8262e-02,  2.0141e-03,\n",
       "          6.3042e-05, -7.1276e-03,  2.8000e-03,  3.8831e-03,  6.8815e-04],\n",
       "        [ 2.2611e-04, -1.8439e-03, -2.1229e-03, -1.3870e-02,  3.5693e-04,\n",
       "          1.1172e-05, -1.2632e-03,  4.9621e-04,  6.8815e-04,  1.2195e-04]],\n",
       "       grad_fn=<AddBackward0>)"
      ]
     },
     "execution_count": 240,
     "metadata": {},
     "output_type": "execute_result"
    }
   ],
   "source": [
    "FIM"
   ]
  },
  {
   "cell_type": "code",
   "execution_count": null,
   "id": "b2ade746",
   "metadata": {},
   "outputs": [],
   "source": []
  },
  {
   "cell_type": "code",
   "execution_count": null,
   "id": "1c93ef0b",
   "metadata": {},
   "outputs": [],
   "source": []
  },
  {
   "cell_type": "code",
   "execution_count": 13,
   "id": "4d569595",
   "metadata": {},
   "outputs": [],
   "source": [
    "def iteminfomat(theta, a, d):\n",
    "    dim = theta.size(0)  # latent dimension\n",
    "\n",
    "    # get probability of a correct response\n",
    "    P = torch.sigmoid(torch.dot(a, theta) + d)\n",
    "    Q = 1 - P\n",
    "\n",
    "    # calculate information matrix\n",
    "    info_mat = torch.zeros((dim, dim))\n",
    "    for r in range(dim):\n",
    "        for s in range(dim):\n",
    "            print(r)\n",
    "            print(s)\n",
    "            info_mat[r, s] = a[r] * a[s] * Q * P\n",
    "\n",
    "    return info_mat"
   ]
  },
  {
   "cell_type": "code",
   "execution_count": 14,
   "id": "9fa55206",
   "metadata": {},
   "outputs": [
    {
     "data": {
      "text/plain": [
       "tensor([[ 0.0524, -0.0704,  0.0442],\n",
       "        [-0.0704,  0.0946, -0.0594],\n",
       "        [ 0.0442, -0.0594,  0.0373]], grad_fn=<CopySlices>)"
      ]
     },
     "execution_count": 14,
     "metadata": {},
     "output_type": "execute_result"
    }
   ],
   "source": [
    "a = vae.decoder.linear.weight\n",
    "d = vae.decoder.linear.bias\n",
    "a = a[0,:]\n",
    "d = d[0]\n",
    "\n",
    "#theta = torch.zeros(10)\n",
    "dim = theta.size(0)  # latent dimension\n",
    "\n",
    "# get probability of a correct response\n",
    "P = torch.sigmoid(torch.dot(a, theta) + d)\n",
    "Q = 1 - P\n",
    "\n",
    "# calculate information matrix\n",
    "info_mat = torch.zeros((dim, dim))\n",
    "for r in range(dim):\n",
    "    for s in range(dim):\n",
    "        info_mat[r, s] = a[r] * a[s] * Q * P\n",
    "\n",
    "info_mat"
   ]
  },
  {
   "cell_type": "code",
   "execution_count": 15,
   "id": "7af27b43",
   "metadata": {},
   "outputs": [],
   "source": [
    "a = vae.decoder.linear.weight.detach().numpy()\n",
    "d = vae.decoder.linear.bias.detach().numpy()\n",
    "np.savetxt('/Users/karel/Documents/GitHub/Information-VAE/data/a.csv', a, delimiter=',')\n",
    "np.savetxt('/Users/karel/Documents/GitHub/Information-VAE/data/d.csv', d, delimiter=',')"
   ]
  },
  {
   "cell_type": "markdown",
   "id": "f32922e1",
   "metadata": {},
   "source": [
    "## Simulation data and fit mdel"
   ]
  },
  {
   "cell_type": "code",
   "execution_count": 16,
   "id": "0bf54b3a",
   "metadata": {},
   "outputs": [
    {
     "name": "stderr",
     "output_type": "stream",
     "text": [
      "GPU available: True (mps), used: False\n",
      "TPU available: False, using: 0 TPU cores\n",
      "IPU available: False, using: 0 IPUs\n",
      "HPU available: False, using: 0 HPUs\n",
      "\n",
      "  | Name    | Type          | Params\n",
      "------------------------------------------\n",
      "0 | encoder | Encoder       | 1.7 K \n",
      "1 | sampler | SamplingLayer | 0     \n",
      "2 | decoder | Decoder       | 120   \n",
      "------------------------------------------\n",
      "1.8 K     Trainable params\n",
      "0         Non-trainable params\n",
      "1.8 K     Total params\n",
      "0.007     Total estimated model params size (MB)\n"
     ]
    },
    {
     "data": {
      "application/vnd.jupyter.widget-view+json": {
       "model_id": "359d370460ee47f1b66733678c3487a0",
       "version_major": 2,
       "version_minor": 0
      },
      "text/plain": [
       "Training: 0it [00:00, ?it/s]"
      ]
     },
     "metadata": {},
     "output_type": "display_data"
    }
   ],
   "source": [
    "# simulate data\n",
    "N = 1000\n",
    "nitems = 30\n",
    "mirt_dim=3\n",
    "\n",
    "theta =np.random.normal(0,1,N*mirt_dim).reshape((N,mirt_dim))\n",
    "a = np.random.uniform(.5, 2, nitems * mirt_dim).reshape((nitems, mirt_dim))  # draw discrimination parameters from uniform distribution\n",
    "b = np.linspace(-2, 2, nitems, endpoint=True)  # eqally spaced values between -2 and 2 for the difficulty\n",
    "exponent = np.dot(theta, a.T) + b\n",
    "\n",
    "prob = np.exp(exponent) / (1 + np.exp(exponent))\n",
    "data = np.random.binomial(1, prob).astype(float)\n",
    "\n",
    "# Train initial model\n",
    "logger = CSVLogger(\"logs\", name='simfit', version=0)\n",
    "trainer = Trainer(fast_dev_run=cfg['single_epoch_test_run'],\n",
    "                  max_epochs=1500,#cfg['max_epochs'],\n",
    "                  enable_checkpointing=False,\n",
    "                  logger=False,\n",
    "                  callbacks=[EarlyStopping(monitor='train_loss', min_delta=cfg['min_delta'], patience=cfg['patience'], mode='min')])\n",
    "\n",
    "dataset = SimDataset(data)\n",
    "train_loader = DataLoader(dataset, batch_size=cfg['batch_size'], shuffle=False)\n",
    "vae = VAE(nitems=data.shape[1],\n",
    "            dataloader=train_loader,\n",
    "            latent_dims=cfg['mirt_dim'],\n",
    "            hidden_layer_size=cfg['hidden_layer_size'],\n",
    "            hidden_layer_size2=cfg['hidden_layer_size2'],\n",
    "            learning_rate=cfg['learning_rate'],\n",
    "            batch_size=data.shape[0]\n",
    ")\n",
    "\n",
    "start = time.time()\n",
    "trainer.fit(vae)\n",
    "runtime = time.time()-start"
   ]
  },
  {
   "cell_type": "code",
   "execution_count": 406,
   "id": "b0f336da",
   "metadata": {},
   "outputs": [
    {
     "data": {
      "text/plain": [
       "3"
      ]
     },
     "execution_count": 406,
     "metadata": {},
     "output_type": "execute_result"
    }
   ],
   "source": [
    "cfg['mirt_dim']"
   ]
  },
  {
   "cell_type": "markdown",
   "id": "652042d6",
   "metadata": {},
   "source": [
    "## Simulation study for new participants"
   ]
  },
  {
   "cell_type": "code",
   "execution_count": 22,
   "id": "8078994f",
   "metadata": {},
   "outputs": [],
   "source": [
    "def predict_mirt(a, d, theta):\n",
    "    print(theta.shape)\n",
    "    prob = torch.exp(a@theta.T+d) / (1 + torch.exp(a@theta.T+d))\n",
    "    return prob.T\n",
    "\n",
    "def simulate_cat(true_model, n_pers):\n",
    "    # simualte true ability values\n",
    "    n_item = true_model.nitems\n",
    "    mirt_dim = vae.encoder.densem.out_features\n",
    "    theta = torch.normal(torch.zeros((n_pers, mirt_dim)), torch.ones((n_pers, mirt_dim)))\n",
    "    a = true_model.decoder.linear.weight.detach()\n",
    "    d = true_model.decoder.linear.bias.detach()\n",
    "    # sample responses given true model\n",
    "    true_prob = predict_mirt(a, d, theta.T)\n",
    "    data = torch.bernoulli(true_prob)\n",
    "    \n",
    "    error_mat_theta = np.empty((n_pers, n_item))\n",
    "    prob_mat = np.empty((n_pers, n_item))\n",
    "    \n",
    "    for p in range(n_pers):\n",
    "        theta_est = torch.zeros(mirt_dim)\n",
    "        theta_est.requires_grad = True\n",
    "        theta_estimates = np.empty((n_item, mirt_dim))\n",
    "        answered = np.zeros(n_item, dtype=bool)\n",
    "        \n",
    "        \n",
    "        for i in range(n_item):\n",
    "            # compute item information matrices with respect to current theta estimate\n",
    "            FIMs = true_model.compute_information(theta_est)\n",
    "            # compute current test information matrix\n",
    "            TIM = np.zeros_like(FIMs[0])\n",
    "            for m in range(len(FIMs)):\n",
    "                if answered[i]:\n",
    "                    TIM += FIMs[m]\n",
    "            \n",
    "            \n",
    "            dets = [np.linalg.det(TIM+FIM) for FIM in FIMs]\n",
    "\n",
    "            next_item_ix = dets.index(min(dets))\n",
    "            \n",
    "            answered[next_item_ix] = True\n",
    "            # \n",
    "            prob_mat[p, i] = true_prob[p, next_item_ix]\n",
    "            resp_patt = data[p, ]\n",
    "            resp_patt[~answered] = np.nan\n",
    "            \n",
    "            theta_est = true_model.encoder(torch.Tensor(resp_patt))\n",
    "            \n",
    "            \n",
    "            vae\n",
    "            break\n"
   ]
  },
  {
   "cell_type": "code",
   "execution_count": 18,
   "id": "0057306d",
   "metadata": {},
   "outputs": [
    {
     "data": {
      "text/plain": [
       "array([ 1., nan, nan,  1.,  0.])"
      ]
     },
     "execution_count": 18,
     "metadata": {},
     "output_type": "execute_result"
    }
   ],
   "source": [
    "ans = np.array([True, False, False, True, True])\n",
    "rp = np.array([1,0,1,1,0], dtype=float)\n",
    "\n",
    "rp[~ans] = np.nan\n",
    "rp"
   ]
  },
  {
   "cell_type": "code",
   "execution_count": 338,
   "id": "b24c1991",
   "metadata": {},
   "outputs": [],
   "source": [
    "# Create a tensor with the desired pattern\n",
    "tensor = torch.cat((torch.ones(8, dtype=torch.bool), torch.zeros(20, dtype=torch.bool)))\n"
   ]
  },
  {
   "cell_type": "code",
   "execution_count": null,
   "id": "a8cdf7fd",
   "metadata": {},
   "outputs": [],
   "source": [
    "simulate_cat"
   ]
  }
 ],
 "metadata": {
  "kernelspec": {
   "display_name": "Python 3 (ipykernel)",
   "language": "python",
   "name": "python3"
  },
  "language_info": {
   "codemirror_mode": {
    "name": "ipython",
    "version": 3
   },
   "file_extension": ".py",
   "mimetype": "text/x-python",
   "name": "python",
   "nbconvert_exporter": "python",
   "pygments_lexer": "ipython3",
   "version": "3.10.6"
  }
 },
 "nbformat": 4,
 "nbformat_minor": 5
}
